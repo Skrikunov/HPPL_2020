{
 "cells": [
  {
   "cell_type": "markdown",
   "metadata": {},
   "source": [
    "# Task 14\n",
    "## Subtask 2: Numba is used, Subtask 3: Acceleration using numba achieved\n",
    "## my implementation With JIT"
   ]
  },
  {
   "cell_type": "raw",
   "metadata": {},
   "source": [
    "Conditions: 500*500, 100 iterations, inf_border 2\n",
    "\n",
    "Results:\n",
    "# My implementation With JIT---------45.3 ms\n",
    "# My implementation Without JIT------1.00 s\n",
    "# Shared implementation With JIT-----24.9 ms\n",
    "# Shared implementation Without JIT--1.7 s"
   ]
  },
  {
   "cell_type": "code",
   "execution_count": 8,
   "metadata": {},
   "outputs": [
    {
     "name": "stdout",
     "output_type": "stream",
     "text": [
      "Populating the interactive namespace from numpy and matplotlib\n"
     ]
    },
    {
     "name": "stderr",
     "output_type": "stream",
     "text": [
      "/home/stas/anaconda3/lib/python3.8/site-packages/IPython/core/magics/pylab.py:159: UserWarning: pylab import has clobbered these variables: ['size']\n",
      "`%matplotlib` prevents importing * from pylab and numpy\n",
      "  warn(\"pylab import has clobbered these variables: %s\"  % clobbered +\n"
     ]
    },
    {
     "data": {
      "text/plain": [
       "<matplotlib.image.AxesImage at 0x7f4913d95280>"
      ]
     },
     "execution_count": 8,
     "metadata": {},
     "output_type": "execute_result"
    },
    {
     "data": {
      "image/png": "[encoded data removed]",
      "text/plain": [
       "<Figure size 432x288 with 1 Axes>"
      ]
     },
     "metadata": {
      "needs_background": "light"
     },
     "output_type": "display_data"
    }
   ],
   "source": [
    "%pylab inline\n",
    "from numba import njit\n",
    "import seaborn as sns\n",
    "\n",
    "@njit(fastmath=True)\n",
    "def count(size, pixels, max_iterations, infinity_border):\n",
    "    \n",
    "    minRe, maxRe, minIm, maxIm = -size, size, -size, size\n",
    "    pointsRe, pointsIm = pixels, pixels\n",
    "    max_iterations = max_iterations\n",
    "    infinity_border = infinity_border\n",
    "    \n",
    "    image = np.zeros((pointsRe, pointsIm)) # image with black colors\n",
    "    \n",
    "    # for each complex value (pixel on Re, Im complex plane)\n",
    "    for ip, Re in enumerate(np.linspace(minRe, maxRe, pointsRe)): # this axis goes down\n",
    "        for iq, Im in enumerate(np.linspace(minIm, maxIm, pointsIm)): # this axis goes right\n",
    "            z0 = 0\n",
    "            c = complex(Re, Im) # consider current z0\n",
    "            \n",
    "            # do iterations (default color - black = 0)\n",
    "            # image[ip, iq] = 0 (black)\n",
    "            for k in range(max_iterations):\n",
    "                # calculate current z0\n",
    "                z0 = z0 ** 2 + c\n",
    "                \n",
    "                # if z0 highet than infinity_border\n",
    "                if abs(z0) >= infinity_border:\n",
    "                    # set colour of pixel:\n",
    "                    # less k => fast growth, higher k => slow growth\n",
    "                    # => k = 0 - white, k = max_iterations - black\n",
    "                    image[ip, iq] =  max_iterations - k\n",
    "                    break\n",
    "    return image\n",
    "\n",
    "def juliaSetRainbow(size = 1.6, pixels = 100, max_iterations = 100, infinity_border = 300):\n",
    "    \n",
    "    image = np.rot90(count(size, pixels, max_iterations, infinity_border))\n",
    "    fig = plt.figure(figsize=(14, 11))\n",
    "    sns.heatmap(image, vmin=0, vmax=max_iterations, center= max_iterations/2, cmap= 'gnuplot2', cbar=False, square=True,\n",
    "                # cbar_kws= {'orientation': 'vertical'}\n",
    "               )   \n",
    "    # plt.title('С = exp(i*' + str(np.round(a_val,3)) + ')', fontsize=20)\n",
    "    plt.ylabel('Imaginary(z_inf)', fontsize=20)\n",
    "    plt.xlabel('Real(z_inf)', fontsize=20)\n",
    "    plt.xticks(np.linspace(0, pixels-1, 5), np.round(np.linspace(-size, size, 5),2))\n",
    "    plt.yticks(np.linspace(0, pixels-1, 5), -np.round(np.linspace(-size, size, 5),2))\n",
    "    plt.close(fig)\n",
    "\n",
    "    return image\n",
    "    \n",
    "image = juliaSetRainbow(size = 1.5, pixels = 500, max_iterations = 100, infinity_border = 2)\n",
    "plt.imshow(image)"
   ]
  },
  {
   "cell_type": "markdown",
   "metadata": {},
   "source": [
    "# my implementation Without JIT"
   ]
  },
  {
   "cell_type": "code",
   "execution_count": 3,
   "metadata": {},
   "outputs": [
    {
     "name": "stdout",
     "output_type": "stream",
     "text": [
      "Populating the interactive namespace from numpy and matplotlib\n",
      "994 ms ± 3.51 ms per loop (mean ± std. dev. of 7 runs, 1 loop each)\n"
     ]
    }
   ],
   "source": [
    "%pylab inline\n",
    "from numba import njit\n",
    "import seaborn as sns\n",
    "\n",
    "#@njit(fastmath=True)\n",
    "def count(size, pixels, max_iterations, infinity_border):\n",
    "    \n",
    "    minRe, maxRe, minIm, maxIm = -size, size, -size, size\n",
    "    pointsRe, pointsIm = pixels, pixels\n",
    "    max_iterations = max_iterations\n",
    "    infinity_border = infinity_border\n",
    "    \n",
    "    image = np.zeros((pointsRe, pointsIm)) # image with black colors\n",
    "    \n",
    "    # for each complex value (pixel on Re, Im complex plane)\n",
    "    for ip, Re in enumerate(np.linspace(minRe, maxRe, pointsRe)): # this axis goes down\n",
    "        for iq, Im in enumerate(np.linspace(minIm, maxIm, pointsIm)): # this axis goes right\n",
    "            z0 = 0\n",
    "            c = complex(Re, Im) # consider current z0\n",
    "            \n",
    "            # do iterations (default color - black = 0)\n",
    "            # image[ip, iq] = 0 (black)\n",
    "            for k in range(max_iterations):\n",
    "                # calculate current z0\n",
    "                z0 = z0 ** 2 + c\n",
    "                \n",
    "                # if z0 highet than infinity_border\n",
    "                if abs(z0) >= infinity_border:\n",
    "                    # set colour of pixel:\n",
    "                    # less k => fast growth, higher k => slow growth\n",
    "                    # => k = 0 - white, k = max_iterations - black\n",
    "                    image[ip, iq] =  max_iterations - k\n",
    "                    break\n",
    "    return image\n",
    "\n",
    "def juliaSetRainbow(size = 1.6, pixels = 100, max_iterations = 100, infinity_border = 300):\n",
    "    \n",
    "    image = np.rot90(count(size, pixels, max_iterations, infinity_border))\n",
    "#     fig = plt.figure(figsize=(14, 11))\n",
    "#     sns.heatmap(image, vmin=0, vmax=max_iterations, center= max_iterations/2, cmap= 'gnuplot2', cbar=False, square=True,\n",
    "#                 # cbar_kws= {'orientation': 'vertical'}\n",
    "#                )   \n",
    "#     # plt.title('С = exp(i*' + str(np.round(a_val,3)) + ')', fontsize=20)\n",
    "#     plt.ylabel('Imaginary(z_inf)', fontsize=20)\n",
    "#     plt.xlabel('Real(z_inf)', fontsize=20)\n",
    "#     plt.xticks(np.linspace(0, pixels-1, 5), np.round(np.linspace(-size, size, 5),2))\n",
    "#     plt.yticks(np.linspace(0, pixels-1, 5), -np.round(np.linspace(-size, size, 5),2))\n",
    "#     plt.close(fig)\n",
    "\n",
    "    return image\n",
    "    \n",
    "%timeit image = juliaSetRainbow(size = 1.5, pixels = 500, max_iterations = 100, infinity_border = 2)\n",
    "# plt.imshow(image)"
   ]
  },
  {
   "cell_type": "markdown",
   "metadata": {},
   "source": [
    "### shared implementation With JIT"
   ]
  },
  {
   "cell_type": "code",
   "execution_count": 5,
   "metadata": {},
   "outputs": [
    {
     "name": "stdout",
     "output_type": "stream",
     "text": [
      "24.6 ms ± 1.54 ms per loop (mean ± std. dev. of 7 runs, 10 loops each)\n"
     ]
    }
   ],
   "source": [
    "#! /usr/bin/env python\n",
    "# -*- coding: utf-8 -*-\n",
    "from __future__ import print_function, division, absolute_import\n",
    "\n",
    "from timeit import default_timer as timer\n",
    "from matplotlib.pylab import imshow, jet, show, ion\n",
    "import numpy as np\n",
    "\n",
    "from numba import njit\n",
    "\n",
    "@njit\n",
    "def mandel(x, y, max_iters):\n",
    "    \"\"\"\n",
    "    Given the real and imaginary parts of a complex number,\n",
    "    determine if it is a candidate for membership in the Mandelbrot\n",
    "    set given a fixed number of iterations.\n",
    "    \"\"\"\n",
    "    i = 0\n",
    "    c = complex(x,y)\n",
    "    z = 0.0j\n",
    "    for i in range(max_iters):\n",
    "        z = z*z + c\n",
    "        if (z.real*z.real + z.imag*z.imag) >= 4:\n",
    "            return i\n",
    "\n",
    "    return 255\n",
    "\n",
    "@njit\n",
    "def create_fractal(min_x, max_x, min_y, max_y, image, iters):\n",
    "    height = image.shape[0]\n",
    "    width = image.shape[1]\n",
    "\n",
    "    pixel_size_x = (max_x - min_x) / width\n",
    "    pixel_size_y = (max_y - min_y) / height\n",
    "    for x in range(width):\n",
    "        real = min_x + x * pixel_size_x\n",
    "        for y in range(height):\n",
    "            imag = min_y + y * pixel_size_y\n",
    "            color = mandel(real, imag, iters)\n",
    "            image[y, x] = color\n",
    "\n",
    "    return image\n",
    "\n",
    "def create_image():\n",
    "    image = np.zeros((500, 500), dtype=np.uint8)\n",
    "    s = timer()\n",
    "    image = create_fractal(-2.0, 1.0, -1.0, 1.0, image, 100)\n",
    "    e = timer()\n",
    "    # print(e - s)\n",
    "    return image\n",
    "\n",
    "%timeit image = create_image()\n",
    "\n",
    "# plt.imshow(image)"
   ]
  },
  {
   "cell_type": "markdown",
   "metadata": {},
   "source": [
    "# shared implementation Without JIT"
   ]
  },
  {
   "cell_type": "code",
   "execution_count": 4,
   "metadata": {},
   "outputs": [
    {
     "name": "stdout",
     "output_type": "stream",
     "text": [
      "1.74 s ± 25.2 ms per loop (mean ± std. dev. of 7 runs, 1 loop each)\n"
     ]
    }
   ],
   "source": [
    "#! /usr/bin/env python\n",
    "# -*- coding: utf-8 -*-\n",
    "from __future__ import print_function, division, absolute_import\n",
    "\n",
    "from timeit import default_timer as timer\n",
    "from matplotlib.pylab import imshow, jet, show, ion\n",
    "import numpy as np\n",
    "\n",
    "from numba import njit\n",
    "\n",
    "#@njit\n",
    "def mandel(x, y, max_iters):\n",
    "    \"\"\"\n",
    "    Given the real and imaginary parts of a complex number,\n",
    "    determine if it is a candidate for membership in the Mandelbrot\n",
    "    set given a fixed number of iterations.\n",
    "    \"\"\"\n",
    "    i = 0\n",
    "    c = complex(x,y)\n",
    "    z = 0.0j\n",
    "    for i in range(max_iters):\n",
    "        z = z*z + c\n",
    "        if (z.real*z.real + z.imag*z.imag) >= 4:\n",
    "            return i\n",
    "\n",
    "    return 255\n",
    "\n",
    "#@njit\n",
    "def create_fractal(min_x, max_x, min_y, max_y, image, iters):\n",
    "    height = image.shape[0]\n",
    "    width = image.shape[1]\n",
    "\n",
    "    pixel_size_x = (max_x - min_x) / width\n",
    "    pixel_size_y = (max_y - min_y) / height\n",
    "    for x in range(width):\n",
    "        real = min_x + x * pixel_size_x\n",
    "        for y in range(height):\n",
    "            imag = min_y + y * pixel_size_y\n",
    "            color = mandel(real, imag, iters)\n",
    "            image[y, x] = color\n",
    "\n",
    "    return image\n",
    "\n",
    "def create_image():\n",
    "    image = np.zeros((500, 500), dtype=np.uint8)\n",
    "    s = timer()\n",
    "    image = create_fractal(-2.0, 1.0, -1.0, 1.0, image, 100)\n",
    "    e = timer()\n",
    "    # print(e - s)\n",
    "    return image\n",
    "\n",
    "%timeit image = create_image()\n",
    "\n",
    "# plt.imshow(image)"
   ]
  },
  {
   "cell_type": "markdown",
   "metadata": {},
   "source": [
    "## Shared code profiling"
   ]
  },
  {
   "cell_type": "markdown",
   "metadata": {},
   "source": [
    "## Subtask 1: Mandelbrot code is profiled"
   ]
  },
  {
   "cell_type": "code",
   "execution_count": 49,
   "metadata": {},
   "outputs": [],
   "source": [
    "#%%writefile mandelbrot.py\n",
    "from __future__ import print_function, division, absolute_import\n",
    "\n",
    "from timeit import default_timer as timer\n",
    "from matplotlib.pylab import imshow, jet, show, ion\n",
    "import numpy as np\n",
    "from numba import njit\n",
    "\n",
    "@njit\n",
    "def mandel(x, y, max_iters):\n",
    "    \"\"\"\n",
    "    Given the real and imaginary parts of a complex number,\n",
    "    determine if it is a candidate for membership in the Mandelbrot\n",
    "    set given a fixed number of iterations.\n",
    "    \"\"\"\n",
    "    i = 0\n",
    "    c = complex(x,y)\n",
    "    z = 0.0j\n",
    "    for i in range(max_iters):\n",
    "        z = z*z + c\n",
    "        if (z.real*z.real + z.imag*z.imag) >= 4:\n",
    "            return i\n",
    "\n",
    "    return 255\n",
    "\n",
    "@njit\n",
    "def create_fractal(min_x, max_x, min_y, max_y, image, iters):\n",
    "    height = image.shape[0]\n",
    "    width = image.shape[1]\n",
    "\n",
    "    pixel_size_x = (max_x - min_x) / width\n",
    "    pixel_size_y = (max_y - min_y) / height\n",
    "    for x in range(width):\n",
    "        real = min_x + x * pixel_size_x\n",
    "        for y in range(height):\n",
    "            imag = min_y + y * pixel_size_y\n",
    "            color = mandel(real, imag, iters)\n",
    "            image[y, x] = color\n",
    "\n",
    "    return image\n",
    "\n",
    "def create_image():\n",
    "    image = np.zeros((500, 500), dtype=np.uint8)\n",
    "    s = timer()\n",
    "    image = create_fractal(-2.0, 1.0, -1.0, 1.0, image, 100)\n",
    "    e = timer()\n",
    "    # print(e - s)\n",
    "    return image\n",
    "\n",
    "image = create_image()\n",
    "#plt.imshow(image)"
   ]
  },
  {
   "cell_type": "code",
   "execution_count": 39,
   "metadata": {},
   "outputs": [
    {
     "name": "stdout",
     "output_type": "stream",
     "text": [
      "The snakeviz extension is already loaded. To reload it, use:\n",
      "  %reload_ext snakeviz\n",
      " \n",
      "*** Profile stats marshalled to file '/tmp/tmp0s593rwd'. \n",
      "Embedding SnakeViz in this document...\n"
     ]
    },
    {
     "data": {
      "text/html": [
       "\n",
       "<iframe id='snakeviz-1ea09cca-32f6-11eb-95b1-01a2442f3095' frameborder=0 seamless width='100%' height='1000'></iframe>\n",
       "<script>document.getElementById(\"snakeviz-1ea09cca-32f6-11eb-95b1-01a2442f3095\").setAttribute(\"src\", \"http://\" + document.location.hostname + \":8080/snakeviz/%2Ftmp%2Ftmp0s593rwd\")</script>\n"
      ],
      "text/plain": [
       "<IPython.core.display.HTML object>"
      ]
     },
     "metadata": {},
     "output_type": "display_data"
    }
   ],
   "source": [
    "%load_ext snakeviz\n",
    "%snakeviz create_image()"
   ]
  },
  {
   "cell_type": "markdown",
   "metadata": {},
   "source": [
    "## Subtask 4: Measuring computation time - number of total iterations vs computational time (JITed, regular)\n",
    "### Without JIT"
   ]
  },
  {
   "cell_type": "code",
   "execution_count": 7,
   "metadata": {},
   "outputs": [
    {
     "name": "stdout",
     "output_type": "stream",
     "text": [
      "451.2831389999974 mSec\n",
      "616.3075650001701 mSec\n",
      "762.4729920000846 mSec\n",
      "916.6810870001427 mSec\n",
      "1049.316120999947 mSec\n",
      "1208.1071299999167 mSec\n",
      "1353.006526999934 mSec\n",
      "1480.3156390000822 mSec\n",
      "1624.9566630001482 mSec\n",
      "1762.0144170000458 mSec\n",
      "1896.3926220001213 mSec\n",
      "2047.620889999962 mSec\n",
      "2171.190420999892 mSec\n",
      "2307.3229450001236 mSec\n",
      "2699.9634960000094 mSec\n",
      "2553.5822090000693 mSec\n",
      "2728.9742999998907 mSec\n",
      "2823.165248999885 mSec\n",
      "2964.144400000123 mSec\n",
      "3161.04572800009 mSec\n",
      "3408.0239329998676 mSec\n",
      "3441.3747090000015 mSec\n",
      "3605.3399370000534 mSec\n",
      "3661.2365840001075 mSec\n",
      "4208.473200999833 mSec\n",
      "3963.27475399994 mSec\n",
      "4264.771174000089 mSec\n",
      "4426.981552999905 mSec\n",
      "4479.634037000096 mSec\n"
     ]
    }
   ],
   "source": [
    "from __future__ import print_function, division, absolute_import\n",
    "\n",
    "from timeit import default_timer as timer\n",
    "from matplotlib.pylab import imshow, jet, show, ion\n",
    "import numpy as np\n",
    "from numba import njit\n",
    "\n",
    "#@njit\n",
    "def mandel(x, y, max_iters):\n",
    "    \"\"\"\n",
    "    Given the real and imaginary parts of a complex number,\n",
    "    determine if it is a candidate for membership in the Mandelbrot\n",
    "    set given a fixed number of iterations.\n",
    "    \"\"\"\n",
    "    i = 0\n",
    "    c = complex(x,y)\n",
    "    z = 0.0j\n",
    "    for i in range(max_iters):\n",
    "        z = z*z + c\n",
    "        if (z.real*z.real + z.imag*z.imag) >= 4:\n",
    "            return i\n",
    "\n",
    "    return 255\n",
    "\n",
    "#@njit\n",
    "def create_fractal(min_x, max_x, min_y, max_y, image, iters):\n",
    "    height = image.shape[0]\n",
    "    width = image.shape[1]\n",
    "\n",
    "    pixel_size_x = (max_x - min_x) / width\n",
    "    pixel_size_y = (max_y - min_y) / height\n",
    "    for x in range(width):\n",
    "        real = min_x + x * pixel_size_x\n",
    "        for y in range(height):\n",
    "            imag = min_y + y * pixel_size_y\n",
    "            color = mandel(real, imag, iters)\n",
    "            image[y, x] = color\n",
    "\n",
    "    return image\n",
    "\n",
    "def create_image(max_iters):\n",
    "    image = np.zeros((500, 500), dtype=np.uint8)\n",
    "    image = create_fractal(-2.0, 1.0, -1.0, 1.0, image, iters = max_iters)\n",
    "    return image\n",
    "\n",
    "times = []\n",
    "for max_iters in range(10, 300,10):\n",
    "    s = timer()\n",
    "    image = create_image(max_iters = max_iters)\n",
    "    e = timer()\n",
    "    time = (e - s)*1000\n",
    "    print(time, 'mSec')\n",
    "    times.append(time)"
   ]
  },
  {
   "cell_type": "code",
   "execution_count": 8,
   "metadata": {},
   "outputs": [
    {
     "data": {
      "image/png": "[encoded data removed]",
      "text/plain": [
       "<Figure size 864x288 with 1 Axes>"
      ]
     },
     "metadata": {
      "needs_background": "light"
     },
     "output_type": "display_data"
    }
   ],
   "source": [
    "import matplotlib.pyplot as plt\n",
    "\n",
    "plt.figure(figsize=(12, 4))\n",
    "plt.title('Number of total iterations vs computational time', fontsize=16)\n",
    "plt.plot(times)\n",
    "plt.xlabel(\"Iterations\", fontsize=14)\n",
    "plt.ylabel(\"Computational time, mSec\", fontsize=14)\n",
    "plt.xticks(np.arange(0, len(times)), np.arange(1, len(times)+1),  fontsize=14)\n",
    "plt.yticks(fontsize=14)\n",
    "plt.grid()\n",
    "plt.show()"
   ]
  },
  {
   "cell_type": "markdown",
   "metadata": {},
   "source": [
    "### With JIT"
   ]
  },
  {
   "cell_type": "code",
   "execution_count": 47,
   "metadata": {},
   "outputs": [
    {
     "name": "stdout",
     "output_type": "stream",
     "text": [
      "237.6898490001622 mSec\n",
      "6.753779000064242 mSec\n",
      "9.196633000101428 mSec\n",
      "11.29582199973811 mSec\n",
      "14.28192799903627 mSec\n",
      "16.222972999457852 mSec\n",
      "18.453192000379204 mSec\n",
      "20.375586000227486 mSec\n",
      "22.290556000370998 mSec\n",
      "24.97778000179096 mSec\n",
      "26.874177001445787 mSec\n",
      "28.96490300008736 mSec\n",
      "31.423551999978372 mSec\n",
      "33.31884200088098 mSec\n",
      "34.93145100037509 mSec\n",
      "37.05048700066982 mSec\n",
      "38.94359600053576 mSec\n",
      "43.196409998927265 mSec\n",
      "43.1902109994553 mSec\n",
      "45.604839999214164 mSec\n",
      "47.736468999573844 mSec\n",
      "53.44777100071951 mSec\n",
      "53.93940800058772 mSec\n",
      "55.17826700088335 mSec\n",
      "56.95420499978354 mSec\n",
      "56.37214300077176 mSec\n",
      "59.2447799990623 mSec\n",
      "60.4677269984677 mSec\n",
      "62.35369699970761 mSec\n"
     ]
    }
   ],
   "source": [
    "from __future__ import print_function, division, absolute_import\n",
    "\n",
    "from timeit import default_timer as timer\n",
    "from matplotlib.pylab import imshow, jet, show, ion\n",
    "import numpy as np\n",
    "from numba import njit\n",
    "\n",
    "@njit\n",
    "def mandel(x, y, max_iters):\n",
    "    \"\"\"\n",
    "    Given the real and imaginary parts of a complex number,\n",
    "    determine if it is a candidate for membership in the Mandelbrot\n",
    "    set given a fixed number of iterations.\n",
    "    \"\"\"\n",
    "    i = 0\n",
    "    c = complex(x,y)\n",
    "    z = 0.0j\n",
    "    for i in range(max_iters):\n",
    "        z = z*z + c\n",
    "        if (z.real*z.real + z.imag*z.imag) >= 4:\n",
    "            return i\n",
    "\n",
    "    return 255\n",
    "\n",
    "@njit\n",
    "def create_fractal(min_x, max_x, min_y, max_y, image, iters):\n",
    "    height = image.shape[0]\n",
    "    width = image.shape[1]\n",
    "\n",
    "    pixel_size_x = (max_x - min_x) / width\n",
    "    pixel_size_y = (max_y - min_y) / height\n",
    "    for x in range(width):\n",
    "        real = min_x + x * pixel_size_x\n",
    "        for y in range(height):\n",
    "            imag = min_y + y * pixel_size_y\n",
    "            color = mandel(real, imag, iters)\n",
    "            image[y, x] = color\n",
    "\n",
    "    return image\n",
    "\n",
    "@njit\n",
    "def create_image(max_iters):\n",
    "    image = np.zeros((500, 500), dtype=np.uint8)\n",
    "    image = create_fractal(-2.0, 1.0, -1.0, 1.0, image, iters = max_iters)\n",
    "    return image\n",
    "\n",
    "times = []\n",
    "for max_iters in range(10, 300,10):\n",
    "    s = 0\n",
    "    s = timer()\n",
    "    image = create_image(max_iters = max_iters)\n",
    "    e = timer()\n",
    "    time = (e - s)*1000\n",
    "    print(time, 'mSec')\n",
    "    times.append(time)"
   ]
  },
  {
   "cell_type": "code",
   "execution_count": 48,
   "metadata": {},
   "outputs": [
    {
     "data": {
      "image/png": "[encoded data removed]",
      "text/plain": [
       "<Figure size 864x288 with 1 Axes>"
      ]
     },
     "metadata": {
      "needs_background": "light"
     },
     "output_type": "display_data"
    }
   ],
   "source": [
    "import matplotlib.pyplot as plt\n",
    "\n",
    "plt.figure(figsize=(12, 4))\n",
    "plt.title('Number of total iterations vs computational time', fontsize=16)\n",
    "plt.plot(times)\n",
    "plt.xlabel(\"Iterations\", fontsize=14)\n",
    "plt.ylabel(\"Computational time, mSec\", fontsize=14)\n",
    "plt.xticks(np.arange(0, len(times)), np.arange(1, len(times)+1),  fontsize=14)\n",
    "plt.yticks(fontsize=14)\n",
    "plt.grid()\n",
    "plt.show()"
   ]
  }
 ],
 "metadata": {
  "kernelspec": {
   "display_name": "Python 3",
   "language": "python",
   "name": "python3"
  },
  "language_info": {
   "codemirror_mode": {
    "name": "ipython",
    "version": 3
   },
   "file_extension": ".py",
   "mimetype": "text/x-python",
   "name": "python",
   "nbconvert_exporter": "python",
   "pygments_lexer": "ipython3",
   "version": "3.8.5"
  }
 },
 "nbformat": 4,
 "nbformat_minor": 4
}
