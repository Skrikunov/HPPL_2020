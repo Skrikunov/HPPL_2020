{
 "cells": [
  {
   "cell_type": "code",
   "execution_count": null,
   "metadata": {},
   "outputs": [],
   "source": [
    "%pylab inline\n",
    "from numba import njit"
   ]
  },
  {
   "cell_type": "markdown",
   "metadata": {},
   "source": [
    "# Task 4: Spectrogram"
   ]
  },
  {
   "cell_type": "markdown",
   "metadata": {},
   "source": [
    "### Subtask 1: Add 4th wave packet (frequency = 4 and time_shift = 7 cycles). Demonstrate the effect on the plot of the FFT spectrum"
   ]
  },
  {
   "cell_type": "code",
   "execution_count": null,
   "metadata": {},
   "outputs": [],
   "source": [
    "# generate the time space (time * 2 * pi)\n",
    "timeMin = -20\n",
    "timeMax = 20\n",
    "n_samples = 2**9\n",
    "t = 2 * pi * np.linspace(timeMin, timeMax, n_samples)\n",
    "\n",
    "# np.sin(F * t) * exp(-(t - t_shift)**2 / 2 / gain**2)\n",
    "# F - frequency [Hz]\n",
    "# t - time [cycles] - time * 2*pi\n",
    "# t_shift - time shift relating 0 (<0 - right; >0 - left) [cycles]\n",
    "# gain - decay rate: less gain - higher decay\n",
    "\n",
    "y = 0 # zero signal\n",
    "y += np.sin(1.0 * t) * exp(-(t - 0 * 2 * pi)**2 / 2 / 20**2) # 1st wawve packet\n",
    "y += np.sin(3.0 * t) * exp(-(t - 5 * 2 * pi)**2 / 2 / 20**2) # 2nd wawve packet\n",
    "y += np.sin(5.5 * t) * exp(-(t - 10 * 2 * pi)**2 / 2 /5**2)  # 3rd wawve packet\n",
    "y += np.sin(4.0 * t) * exp(-(t - 7 * 2 * pi)**2 / 2 / 15**2) # 4th wawve packet (added)\n",
    "\n",
    "plt.figure(figsize=(25, 4))\n",
    "plt.title('The time domain of the signal', fontsize=18);\n",
    "plt.plot(t / 2 / pi, y)\n",
    "#xlim((-5, 500))\n",
    "#ylim(-0.1, 1)\n",
    "xlabel('t, cycles', fontsize=18)\n",
    "ylabel('signal, arb.units', fontsize=18)\n",
    "plt.grid()\n",
    "plt.show()"
   ]
  },
  {
   "cell_type": "code",
   "execution_count": null,
   "metadata": {},
   "outputs": [],
   "source": [
    "# Fourier spectrum\n",
    "spectrum = fft.fft(y) # get spectrum\n",
    "w = fft.fftfreq(len(y), d = (t[1]-t[0]) / 2 / pi) # len(y), sample space - get freq axis values\n",
    "\n",
    "plt.figure(figsize=(25, 4))\n",
    "plt.title('The frequency domain of the signal', fontsize=18)\n",
    "plot(w, abs(spectrum)**2) # print symmetric spextrum around zero frequency\n",
    "xlim(0, 6)\n",
    "#ylim(-0.1, 1)\n",
    "xlabel('Frequency, arb. units', fontsize=18)\n",
    "ylabel('Power spectrum, arb. units', fontsize=18)\n",
    "plt.grid()\n",
    "plt.show()"
   ]
  },
  {
   "cell_type": "markdown",
   "metadata": {},
   "source": [
    "### Subtask 2: Implement the spectrogram, show the effect of 1 on the spectrogram. Don’t forget to label the axes"
   ]
  },
  {
   "cell_type": "code",
   "execution_count": null,
   "metadata": {},
   "outputs": [],
   "source": [
    "@njit(fastmath=True)\n",
    "def get_windowed(y = y, wind_pos_start = -20.0 * 2 * pi, wind_pos_stop = 20.0 * 2 * pi, window_width = 1.0 * 2 * pi):\n",
    "    array = [] # array for all window positionns time-domain functions\n",
    "    # for all window positions\n",
    "    for wind_pos in arange(wind_pos_start, wind_pos_stop, (t[1]-t[0])):\n",
    "        window_function = exp(-(t - wind_pos)**2 / 2 / window_width**2) # define current window function\n",
    "        y_window = y * window_function # find result of windowing\n",
    "        array.append(y_window) # add windowed function into array\n",
    "    return array\n",
    "\n",
    "def get_specgram(wind_pos_start = -20.0 * 2 * pi, wind_pos_stop = 20.0 * 2 * pi, window_width = 1.0 * 2 * pi):\n",
    "    # get windowed function\n",
    "    array = get_windowed(y = y, wind_pos_start = wind_pos_start, wind_pos_stop = wind_pos_stop, window_width = window_width)\n",
    "    spect = [] # array for all window positionns spectrum \n",
    "    arr = np.array(array)\n",
    "    # for all window positions\n",
    "    for i in range(arr.shape[0]):\n",
    "        y_window = arr[i] # use current windowing result\n",
    "        spectrum = fft.fft(y_window) # get spectrum\n",
    "        spect.append(abs(spectrum[0:int(spectrum.shape[0] / 2 -1)])**2) # get one half of the spectrum\n",
    "    spectrogram = np.array(spect)\n",
    "    return spectrogram"
   ]
  },
  {
   "cell_type": "code",
   "execution_count": null,
   "metadata": {},
   "outputs": [],
   "source": [
    "wind_pos_start = -20.0 * 2 * pi\n",
    "wind_pos_stop = 20.0 * 2 * pi\n",
    "window_width = 2.0 * 2 * pi\n",
    "\n",
    "spectrogram = get_specgram(wind_pos_start = wind_pos_start, wind_pos_stop = wind_pos_stop, window_width = window_width)\n",
    "\n",
    "plt.figure(figsize=(30, 12))\n",
    "plt.imshow(np.rot90(spectrogram[0 : n_samples-1 : 1][:])) # choose intager sampling step for image\n",
    "# colorbar()\n",
    "plt.xticks(np.linspace(0, (spectrogram.shape[0] / n_samples) * n_samples-1, 9), np.round(np.linspace(-20, 20, 9),2), fontsize=16)\n",
    "plt.yticks(np.linspace(0, n_samples / 2 -1, 9), np.round(np.linspace( n_samples / 80, 0, 9),2), fontsize=16) # 1024/80 - scale\n",
    "xlabel('t, cycles', fontsize=18)\n",
    "ylabel('Frequency, arb. units', fontsize=18)"
   ]
  },
  {
   "cell_type": "markdown",
   "metadata": {},
   "source": [
    "### Subtask 3: Change the number of time steps in your signal to the power of 2 (i.e. 2**14) and then slightly change the number of timesteps. Measure the timing, can you explain the difference?"
   ]
  },
  {
   "cell_type": "code",
   "execution_count": null,
   "metadata": {},
   "outputs": [],
   "source": [
    "# generate the time space (time * 2 * pi)\n",
    "timeMin = -20\n",
    "timeMax = 20\n",
    "n_samples = 2**9-1\n",
    "t = 2 * pi * np.linspace(timeMin, timeMax, n_samples)\n",
    "\n",
    "# np.sin(F * t) * exp(-(t - t_shift)**2 / 2 / gain**2)\n",
    "# F - frequency [Hz]\n",
    "# t - time [cycles] - time * 2*pi\n",
    "# t_shift - time shift relating 0 (<0 - right; >0 - left) [cycles]\n",
    "# gain - decay rate: less gain - higher decay\n",
    "y = 0 # zero signal\n",
    "y += np.sin(1.0 * t) * exp(-(t - 0 * 2 * pi)**2 / 2 / 20**2) # 1st wawve packet\n",
    "y += np.sin(3.0 * t) * exp(-(t - 5 * 2 * pi)**2 / 2 / 20**2) # 2nd wawve packet\n",
    "y += np.sin(5.5 * t) * exp(-(t - 10 * 2 * pi)**2 / 2 /5**2)  # 3rd wawve packet\n",
    "y += np.sin(4.0 * t) * exp(-(t - 7 * 2 * pi)**2 / 2 / 15**2) # 4th wawve packet (added)\n",
    "\n",
    "plt.figure(figsize=(25, 4))\n",
    "plt.title('The time domain of the signal', fontsize=18);\n",
    "plt.plot(t / 2 / pi, y)\n",
    "#xlim((-5, 500))\n",
    "#ylim(-0.1, 1)\n",
    "xlabel('t, cycles', fontsize=18)\n",
    "ylabel('signal, arb.units', fontsize=18)\n",
    "plt.grid()\n",
    "plt.show()"
   ]
  },
  {
   "cell_type": "code",
   "execution_count": null,
   "metadata": {},
   "outputs": [],
   "source": [
    "@njit(fastmath=True)\n",
    "def get_windowed(y = y, wind_pos_start = -20.0 * 2 * pi, wind_pos_stop = 20.0 * 2 * pi, window_width = 1.0 * 2 * pi):\n",
    "    array = [] # array for all window positionns time-domain functions\n",
    "    # for all window positions\n",
    "    for wind_pos in arange(wind_pos_start, wind_pos_stop, (t[1]-t[0])):\n",
    "        window_function = exp(-(t - wind_pos)**2 / 2 / window_width**2) # define current window function\n",
    "        y_window = y * window_function # find result of windowing\n",
    "        array.append(y_window) # add windowed function into array\n",
    "    return array\n",
    "\n",
    "def get_specgram(wind_pos_start = -20.0 * 2 * pi, wind_pos_stop = 20.0 * 2 * pi, window_width = 1.0 * 2 * pi):\n",
    "    # get windowed function\n",
    "    array = get_windowed(y = y, wind_pos_start = wind_pos_start, wind_pos_stop = wind_pos_stop, window_width = window_width)\n",
    "    spect = [] # array for all window positionns spectrum \n",
    "    arr = np.array(array)\n",
    "    # for all window positions\n",
    "    for i in range(arr.shape[0]):\n",
    "        y_window = arr[i] # use current windowing result\n",
    "        spectrum = fft.fft(y_window) # get spectrum\n",
    "        spect.append(abs(spectrum[0:int(spectrum.shape[0] / 2 -1)])**2) # get one half of the spectrum\n",
    "    spectrogram = np.array(spect)\n",
    "    return spectrogram"
   ]
  },
  {
   "cell_type": "code",
   "execution_count": null,
   "metadata": {},
   "outputs": [],
   "source": [
    "wind_pos_start = -20.0 * 2 * pi\n",
    "wind_pos_stop = 20.0 * 2 * pi\n",
    "window_width = 2.0 * 2 * pi\n",
    "\n",
    "print('n_samples =', n_samples)\n",
    "%timeit get_specgram(wind_pos_start = wind_pos_start, wind_pos_stop = wind_pos_stop, window_width = window_width)"
   ]
  },
  {
   "cell_type": "code",
   "execution_count": null,
   "metadata": {},
   "outputs": [],
   "source": [
    "print('n_samples =', n_samples)\n",
    "%timeit get_specgram(wind_pos_start = wind_pos_start, wind_pos_stop = wind_pos_stop, window_width = window_width)"
   ]
  },
  {
   "cell_type": "code",
   "execution_count": null,
   "metadata": {},
   "outputs": [],
   "source": [
    "print('n_samples =', n_samples)\n",
    "%timeit get_specgram(wind_pos_start = wind_pos_start, wind_pos_stop = wind_pos_stop, window_width = window_width)"
   ]
  },
  {
   "cell_type": "code",
   "execution_count": null,
   "metadata": {},
   "outputs": [],
   "source": [
    "print('n_samples =', n_samples)\n",
    "%timeit get_specgram(wind_pos_start = wind_pos_start, wind_pos_stop = wind_pos_stop, window_width = window_width)"
   ]
  },
  {
   "cell_type": "markdown",
   "metadata": {},
   "source": [
    "### Subtask 4: Parallel version of spectrogram implemented"
   ]
  },
  {
   "cell_type": "code",
   "execution_count": null,
   "metadata": {},
   "outputs": [],
   "source": [
    "%%writefile spectrogram.py\n",
    "\n",
    "from scipy.fftpack import fft\n",
    "import scipy.fftpack\n",
    "import matplotlib.pyplot as plt\n",
    "from mpi4py import MPI\n",
    "import math\n",
    "import numpy as np\n",
    "\n",
    "pi = math.pi\n",
    "\n",
    "# generate the time space (time * 2 * pi)\n",
    "timeMin = -20\n",
    "timeMax = 20\n",
    "n_samples = 2**10\n",
    "t = 2 * pi * np.linspace(timeMin, timeMax, n_samples)\n",
    "\n",
    "# np.sin(F * t) * exp(-(t - t_shift)**2 / 2 / gain**2)\n",
    "# F - frequency [Hz]\n",
    "# t - time [cycles] - time * 2*pi\n",
    "# t_shift - time shift relating 0 (<0 - right; >0 - left) [cycles]\n",
    "# gain - decay rate: less gain - higher decay\n",
    "y = 0 # zero signal\n",
    "y += np.sin(1.0 * t) * np.exp(-(t - 0 * 2 * pi)**2 / 2 / 20**2) # 1st wawve packet\n",
    "y += np.sin(3.0 * t) * np.exp(-(t - 5 * 2 * pi)**2 / 2 / 20**2) # 2nd wawve packet\n",
    "y += np.sin(5.5 * t) * np.exp(-(t - 10 * 2 * pi)**2 / 2 /5**2)  # 3rd wawve packet\n",
    "y += np.sin(4.0 * t) * np.exp(-(t - 7 * 2 * pi)**2 / 2 / 15**2) # 4th wawve packet (added)\n",
    "\n",
    "wind_pos_start = -20.0 * 2 * pi\n",
    "wind_pos_stop = 20.0 * 2 * pi\n",
    "window_width = 2.0 * 2 * pi\n",
    "\n",
    "def get_windowed(rank, n_proc, y = y, wind_pos_start = -20.0 * 2 * pi, wind_pos_stop = 20.0 * 2 * pi, window_width = 1.0 * 2 * pi):\n",
    "    array = [] # array for all window positionns time-domain functions\n",
    "    # for all window positions\n",
    "    x_0 = wind_pos_start\n",
    "    step = int(n_samples / n_proc)\n",
    "    \n",
    "    for i in range(step * rank, step * (rank+1), 1):\n",
    "        wind_pos = x_0 + (t[1]-t[0]) * i\n",
    "        \n",
    "        window_function = np.exp(-(t - wind_pos)**2 / 2 / window_width**2) # define current window function\n",
    "        y_window = y * window_function # find result of windowing\n",
    "        array.append(y_window) # add windowed function into array\n",
    "    return array\n",
    "\n",
    "def get_specgram(rank, n_proc, wind_pos_start = -20.0 * 2 * pi, wind_pos_stop = 20.0 * 2 * pi, window_width = 1.0 * 2 * pi):\n",
    "    # get windowed function\n",
    "    array = get_windowed(rank = rank, n_proc = n_proc, y = y, wind_pos_start = wind_pos_start, wind_pos_stop = wind_pos_stop, window_width = window_width)\n",
    "    spect = [] # array for all window positionns spectrum \n",
    "    arr = np.array(array)\n",
    "    # for all window positions\n",
    "    for i in range(arr.shape[0]):\n",
    "        y_window = arr[i] # use current windowing result\n",
    "        spectrum = scipy.fftpack.fft(y_window) # get spectrum\n",
    "        spect.append(abs(spectrum[0:int(spectrum.shape[0] / 2 -1)])**2) # get one half of the spectrum\n",
    "    spectrogram = np.array(spect)\n",
    "    return spectrogram\n",
    "\n",
    "comm = MPI.COMM_WORLD\n",
    "n_proc = comm.Get_size() # processors\n",
    "rank = comm.Get_rank() # current rank\n",
    "\n",
    "if rank == 0:\n",
    "    print('nprocs = ', n_proc)\n",
    "    t0 = MPI.Wtime() # measure start time\n",
    "\n",
    "spectrogram = get_specgram(rank = rank, n_proc = n_proc, wind_pos_start = wind_pos_start, wind_pos_stop = wind_pos_stop, window_width = window_width)\n",
    "# X,Y = count(proc = rank, points_X = 1000, n_proc = n_proc, minX = 0, maxX = 4, steps = 500, m = 50)\n",
    "spectrogram = comm.gather(spectrogram, root=0)\n",
    "\n",
    "if rank == 0:\n",
    "    a = []\n",
    "    # get all parts of spectrogram\n",
    "    for i in range(n_proc):\n",
    "        a.append(np.rot90(spectrogram[i]))\n",
    "    \n",
    "    # spectrogram parts concatenation\n",
    "    out = np.concatenate((a), axis=1)\n",
    "    \n",
    "    # total time of calculation\n",
    "    totalTime = MPI.Wtime() - t0\n",
    "    print(np.round((totalTime),4) * 1000, 'mSec')\n",
    "    np.savez('subtask4/example_'+str(n_proc), totalTime = np.round((totalTime),4) * 1000)\n",
    "    \n",
    "    fig = plt.imshow(out)\n",
    "    plt.xticks(np.linspace(0, n_samples-1, 9), np.round(np.linspace(-20, 20, 9),2), fontsize=14)\n",
    "    plt.yticks(np.linspace(0, n_samples / 2 -1, 9), np.round(np.linspace( n_samples / 80, 0, 9),2), fontsize=14) # 1024/80 - scale\n",
    "    plt.xlabel('t, cycles', fontsize=14)\n",
    "    plt.ylabel('Frequency, arb. units', fontsize=14)\n",
    "    plt.savefig('spectrum', dpi = 100)\n",
    "    plt.close()"
   ]
  },
  {
   "cell_type": "code",
   "execution_count": null,
   "metadata": {
    "scrolled": true
   },
   "outputs": [],
   "source": [
    "!mpiexec -n 5 python spectrogram.py\n",
    "from IPython.display import Image\n",
    "Image(\"spectrum.png\")"
   ]
  },
  {
   "cell_type": "markdown",
   "metadata": {},
   "source": [
    "### Subtask 5: Plot speedup vs the number of processors"
   ]
  },
  {
   "cell_type": "code",
   "execution_count": null,
   "metadata": {},
   "outputs": [],
   "source": [
    "!mpiexec -n 1 python spectrogram.py\n",
    "!mpiexec -n 2 python spectrogram.py\n",
    "!mpiexec -n 3 python spectrogram.py\n",
    "!mpiexec -n 4 python spectrogram.py\n",
    "!mpiexec -n 5 python spectrogram.py\n",
    "!mpiexec -n 6 python spectrogram.py\n",
    "!mpiexec -n 7 python spectrogram.py\n",
    "!mpiexec -n 8 python spectrogram.py\n",
    "!mpiexec -n 9 python spectrogram.py\n",
    "!mpiexec -n 10 python spectrogram.py"
   ]
  },
  {
   "cell_type": "code",
   "execution_count": null,
   "metadata": {},
   "outputs": [],
   "source": [
    "a = []\n",
    "for i in range(1, 11, 1):\n",
    "    ex = np.load('subtask4/example_'+str(i)+'.npz')\n",
    "    a.append(int(ex['totalTime']))\n",
    "    \n",
    "plt.figure(figsize=(10, 5))\n",
    "plt.title('Speedup vs number of processors', fontsize=16)\n",
    "plt.ylabel('Time, mSec', fontsize=16)\n",
    "plt.xlabel('Processors', fontsize=16)\n",
    "plt.xticks(np.arange(0, 11), np.arange(1, 12), fontsize=14)\n",
    "plt.yticks(fontsize=14)\n",
    "plt.grid()\n",
    "plt.plot(a)"
   ]
  }
 ],
 "metadata": {
  "kernelspec": {
   "display_name": "Python 3",
   "language": "python",
   "name": "python3"
  },
  "language_info": {
   "codemirror_mode": {
    "name": "ipython",
    "version": 3
   },
   "file_extension": ".py",
   "mimetype": "text/x-python",
   "name": "python",
   "nbconvert_exporter": "python",
   "pygments_lexer": "ipython3",
   "version": "3.8.5"
  }
 },
 "nbformat": 4,
 "nbformat_minor": 4
}
