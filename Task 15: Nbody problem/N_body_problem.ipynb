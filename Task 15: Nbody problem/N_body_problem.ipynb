{
 "cells": [
  {
   "cell_type": "markdown",
   "metadata": {
    "id": "Oj9ZOnRvcIjM"
   },
   "source": [
    "# Task 15: N-body problem"
   ]
  },
  {
   "cell_type": "markdown",
   "metadata": {
    "id": "Vu9nPdMYcIjd"
   },
   "source": [
    "## N-Body problems\n",
    "\n",
    "Many physical problems require the evaluation of all pairwise interactions of a large number of particles, so-called N-body problems. These problems arise in molecular dynamics, astrodynamics and electromagnetics among others. \n",
    "\n",
    "Their pairwise interactions can be expressed as:\n",
    "\n",
    "\\begin{equation}\n",
    "f_i = \\sum_{j=1}^n{P \\left(\\boldsymbol{x}_i, \\boldsymbol{x}_j \\right)w_j} \\ \\ \\ \\text{for } i=1,2,...,n \n",
    "\\end{equation}\n",
    "\n",
    "*  where subscripts $i$,  $j$ respectively denote *target* and *source*\n",
    "*  $f_i$ can be a *potential* (or *force*) at target point $i$\n",
    "*  $w_j$ is the *source weight* \n",
    "*  $\\boldsymbol{x}_i, \\boldsymbol{x}_j$ are the *spatial positions* of particles \n",
    "*  $P \\left(\\boldsymbol{x}_i, \\boldsymbol{x}_j \\right)$ is the *interaction kernel*. \n",
    "\n",
    "In order to evalute the potential $f_i$ at a target point $i$, we have to loop over each source particle $j$. Since there are $n$ target points $i$, this 'brute-force' approach costs $\\mathcal{O} \\left(n^2 \\right)$ operations. \n",
    "\n",
    "One possible approach in this kind of problem is to define a few classes, say `Point` and `Particle` and then loop over the objects and perform the necessary point-to-point calculations."
   ]
  },
  {
   "cell_type": "code",
   "execution_count": 1,
   "metadata": {
    "id": "3S-YjcKDcIjd"
   },
   "outputs": [],
   "source": [
    "import numpy\n",
    "class Point():\n",
    "    \"\"\"    \n",
    "    Arguments:\n",
    "        domain: the domain of random generated coordinates x,y,z, \n",
    "                default=1.0\n",
    "    \n",
    "    Attributes:\n",
    "        x, y, z: coordinates of the point\n",
    "    \"\"\"\n",
    "    def __init__(self, domain=1.0):\n",
    "        self.x = domain * numpy.random.random()\n",
    "        self.y = domain * numpy.random.random()\n",
    "        self.z = domain * numpy.random.random()\n",
    "            \n",
    "    def distance(self, other):\n",
    "        return ((self.x - other.x)**2 + \n",
    "                (self.y - other.y)**2 + \n",
    "                (self.z - other.z)**2)**.5"
   ]
  },
  {
   "cell_type": "code",
   "execution_count": 2,
   "metadata": {
    "id": "d9ZWVPL-cIjd"
   },
   "outputs": [],
   "source": [
    "class Particle(Point):\n",
    "    \"\"\"    \n",
    "    Attributes:\n",
    "        m: mass of the particle\n",
    "        phi: the potential of the particle\n",
    "    \"\"\"\n",
    "    \n",
    "    def __init__(self, domain=1.0, m=1.0):\n",
    "        Point.__init__(self, domain)\n",
    "        self.m = m\n",
    "        self.phi = 0."
   ]
  },
  {
   "cell_type": "markdown",
   "metadata": {
    "id": "e46jhqXWcIjd"
   },
   "source": [
    "Now we create a list of `n` random particles, define a function to calculate their interaction via direct summation and run!"
   ]
  },
  {
   "cell_type": "code",
   "execution_count": 3,
   "metadata": {
    "id": "PKSx1qjycIjd"
   },
   "outputs": [],
   "source": [
    "n = 1000\n",
    "particles = [Particle(m = 1 / n) for i in range(n)]"
   ]
  },
  {
   "cell_type": "code",
   "execution_count": 4,
   "metadata": {
    "id": "5lTogaSAcIjd",
    "outputId": "c2cba7ad-62c7-4545-df0d-4c99f7e1c163"
   },
   "outputs": [
    {
     "data": {
      "text/plain": [
       "1000"
      ]
     },
     "execution_count": 4,
     "metadata": {},
     "output_type": "execute_result"
    }
   ],
   "source": [
    "len(particles)"
   ]
  },
  {
   "cell_type": "code",
   "execution_count": 5,
   "metadata": {
    "id": "FgTuSV68cIje",
    "outputId": "30a21755-242f-4195-e0eb-d5903ef00427"
   },
   "outputs": [
    {
     "data": {
      "text/plain": [
       "<__main__.Particle at 0x7fe9b96ff550>"
      ]
     },
     "execution_count": 5,
     "metadata": {},
     "output_type": "execute_result"
    }
   ],
   "source": [
    "particles[0]"
   ]
  },
  {
   "cell_type": "code",
   "execution_count": 6,
   "metadata": {
    "id": "ZHMPWHemcIje"
   },
   "outputs": [],
   "source": [
    "def direct_sum(particles):\n",
    "    \"\"\"\n",
    "    Calculate the potential at each particle\n",
    "    using direct summation method.\n",
    "\n",
    "    Arguments:\n",
    "        particles: the list of particles\n",
    "\n",
    "    \"\"\"\n",
    "    for i, target in enumerate(particles):\n",
    "        for source in (particles[:i] + particles[i+1:]):\n",
    "            r = target.distance(source)\n",
    "            target.phi += source.m / r"
   ]
  },
  {
   "cell_type": "code",
   "execution_count": 7,
   "metadata": {
    "id": "kHiQ7VdMcIje",
    "outputId": "c83ade42-51fa-45a4-9ea0-b962f0a3894b"
   },
   "outputs": [
    {
     "name": "stdout",
     "output_type": "stream",
     "text": [
      "564 ms ± 3.43 ms per loop (mean ± std. dev. of 7 runs, 1 loop each)\n"
     ]
    }
   ],
   "source": [
    "orig_time = %timeit -o direct_sum(particles)"
   ]
  },
  {
   "cell_type": "markdown",
   "metadata": {
    "id": "brcOmy6kcIje"
   },
   "source": [
    "## How do we use Numba on this problem?\n",
    "Problem: Numba doesn't support jitting native Python classes.  There is a `jit_class` structure in Numba but it's still in early development.\n",
    "\n",
    "But it's nice to have attributes for literate programming.\n",
    "\n",
    "Solution: NumPy custom dtypes."
   ]
  },
  {
   "cell_type": "code",
   "execution_count": 8,
   "metadata": {
    "id": "Mcx28X6ScIjf"
   },
   "outputs": [],
   "source": [
    "particle_dtype = numpy.dtype({'names':['x','y','z','m','phi'], \n",
    "                             'formats':[numpy.double, \n",
    "                                        numpy.double, \n",
    "                                        numpy.double, \n",
    "                                        numpy.double, \n",
    "                                        numpy.double]})"
   ]
  },
  {
   "cell_type": "code",
   "execution_count": 9,
   "metadata": {
    "id": "Soa3xNn-cIjg"
   },
   "outputs": [],
   "source": [
    "import numpy as np\n",
    "import numpy\n",
    "\n",
    "class Point():\n",
    "    \"\"\"    \n",
    "    Arguments:\n",
    "        domain: the domain of random generated coordinates x,y,z, \n",
    "                default=1.0\n",
    "    \n",
    "    Attributes:\n",
    "        x, y, z: coordinates of the point\n",
    "    \"\"\"\n",
    "    def __init__(self, domain=1.0):\n",
    "        self.x = domain * numpy.random.random()\n",
    "        self.y = domain * numpy.random.random()\n",
    "        self.z = domain * numpy.random.random()\n",
    "            \n",
    "    def distance(self, other):\n",
    "        return ((self.x - other.x)**2 + \n",
    "                (self.y - other.y)**2 + \n",
    "                (self.z - other.z)**2)**.5\n",
    "\n",
    "class Particle(Point):\n",
    "    \"\"\"    \n",
    "    Attributes:\n",
    "        m: mass of the particle\n",
    "        phi: the potential of the particle\n",
    "    \"\"\"\n",
    "    \n",
    "    def __init__(self, domain=1.0, m=1.0):\n",
    "        Point.__init__(self, domain)\n",
    "        self.m = m\n",
    "        self.phi = 0."
   ]
  },
  {
   "cell_type": "code",
   "execution_count": 10,
   "metadata": {
    "id": "z1nwf2kAcIjg"
   },
   "outputs": [],
   "source": [
    "particle_dtype = numpy.dtype({'names':['x','y','z','m','phi'], \n",
    "                             'formats':[numpy.double, \n",
    "                                        numpy.double, \n",
    "                                        numpy.double, \n",
    "                                        numpy.double, \n",
    "                                        numpy.double]})"
   ]
  },
  {
   "cell_type": "markdown",
   "metadata": {
    "id": "FeAVoSSHcIjg"
   },
   "source": [
    "### Exercise 1\n",
    "\n",
    "Write a function `create_n_random_particles` that takes the arguments `n` (number of particles), `m` (mass of every particle) and a domain within to generate a random number (as in the class above).\n",
    "It should create an array with `n` elements and `dtype=particle_dtype` and then return that array.\n",
    "\n",
    "For each particle, the mass should be initialized to the value of `m` and the potential `phi` initialized to zero.\n",
    "\n",
    "For the `x` component of a given particle `p`, you might do something like\n",
    "\n",
    "```python\n",
    "p['x'] = domain * numpy.random.random()\n",
    "```"
   ]
  },
  {
   "cell_type": "code",
   "execution_count": 11,
   "metadata": {
    "id": "IfLh0EmjcIjg"
   },
   "outputs": [],
   "source": [
    "from numba import njit\n",
    "\n",
    "@njit(cache=True)\n",
    "def create_n_random_particles(n, m, domain = 1.0):\n",
    "    '''\n",
    "    Creates `n` particles with mass `m` with random coordinates\n",
    "    between 0 and `domain`\n",
    "    '''\n",
    "    parts = numpy.zeros((n), dtype = particle_dtype)\n",
    "    for i in range(n):\n",
    "        parts[i]['x'] = domain * numpy.random.random()\n",
    "        parts[i]['y'] = domain * numpy.random.random()\n",
    "        parts[i]['z'] = domain * numpy.random.random()\n",
    "        parts[i]['m'] = 1 / n\n",
    "        parts[i]['phi'] = 0.0\n",
    "    return parts"
   ]
  },
  {
   "cell_type": "code",
   "execution_count": 12,
   "metadata": {
    "id": "cm2PNzO4cIjg"
   },
   "outputs": [],
   "source": [
    "# test it\n",
    "n = 1000\n",
    "m = 1/n\n",
    "parts = create_n_random_particles(n = n, m = m, domain = 1.0)"
   ]
  },
  {
   "cell_type": "code",
   "execution_count": 13,
   "metadata": {
    "id": "nXw0JTIncIjh",
    "outputId": "5accd8cf-5149-4cfd-99ae-ac691cdea8a4"
   },
   "outputs": [
    {
     "name": "stdout",
     "output_type": "stream",
     "text": [
      "14.1 µs ± 272 ns per loop (mean ± std. dev. of 7 runs, 100000 loops each)\n"
     ]
    }
   ],
   "source": [
    "%timeit create_n_random_particles(n = n, m = m, domain = 1.0)"
   ]
  },
  {
   "cell_type": "code",
   "execution_count": 14,
   "metadata": {
    "id": "lVeLwRj-cIjh",
    "outputId": "5d215fb8-9c4b-4304-ad04-9351aafdf497"
   },
   "outputs": [
    {
     "data": {
      "text/plain": [
       "(1000,)"
      ]
     },
     "execution_count": 14,
     "metadata": {},
     "output_type": "execute_result"
    }
   ],
   "source": [
    "parts.shape"
   ]
  },
  {
   "cell_type": "code",
   "execution_count": 15,
   "metadata": {
    "id": "hpvVFe1zcIjh",
    "outputId": "cae34951-dc3c-43e9-e378-d63d9fda911b"
   },
   "outputs": [
    {
     "data": {
      "text/plain": [
       "(0.009903247552868644, 0.8121420820597347, 0.4572816282506744, 0.001, 0.0)"
      ]
     },
     "execution_count": 15,
     "metadata": {},
     "output_type": "execute_result"
    }
   ],
   "source": [
    "num = 332\n",
    "parts[num]['x'],parts[num]['y'],parts[num]['z'],parts[num]['m'],parts[num]['phi']"
   ]
  },
  {
   "cell_type": "markdown",
   "metadata": {
    "id": "EofjpQW_cIjh"
   },
   "source": [
    "### Exercise 2\n",
    "\n",
    "Write a JITted function `distance` to calculate the distance between two particles of dtype `particle_dtype`\n",
    "\n",
    "Here's the `distance` method from the `Particle` class as a reference:\n",
    "\n",
    "```python\n",
    "def distance(self, other):\n",
    "        return ((self.x - other.x)**2 + \n",
    "                (self.y - other.y)**2 + \n",
    "                (self.z - other.z)**2)**.5\n",
    "```"
   ]
  },
  {
   "cell_type": "code",
   "execution_count": 16,
   "metadata": {
    "id": "EXDu2-L_cIjh"
   },
   "outputs": [],
   "source": [
    "@njit(cache=True)\n",
    "def distance(part1, part2):\n",
    "    '''calculate the distance between two particles'''\n",
    "    return ((part1['x'] - part2['x'])**2 + \n",
    "    (part1['y'] - part2['y'])**2 + \n",
    "    (part1['z'] - part2['z'])**2)**0.5"
   ]
  },
  {
   "cell_type": "code",
   "execution_count": 17,
   "metadata": {
    "id": "bv6m7fd_cIjh",
    "outputId": "c5f80bd6-9f84-4a8f-f418-8546792df58a"
   },
   "outputs": [
    {
     "name": "stdout",
     "output_type": "stream",
     "text": [
      "1.87 µs ± 48.9 ns per loop (mean ± std. dev. of 7 runs, 1000000 loops each)\n"
     ]
    }
   ],
   "source": [
    "%timeit distance(parts[54], parts[563])"
   ]
  },
  {
   "cell_type": "code",
   "execution_count": 18,
   "metadata": {
    "id": "wxYub75GcIjh",
    "outputId": "e563b431-fd43-4069-c2a4-b2f42ea5ea19"
   },
   "outputs": [
    {
     "data": {
      "text/plain": [
       "0.461641531474653"
      ]
     },
     "execution_count": 18,
     "metadata": {},
     "output_type": "execute_result"
    }
   ],
   "source": [
    "# test it\n",
    "a = 343\n",
    "b = 876\n",
    "dist = distance(parts[a], parts[b])\n",
    "dist"
   ]
  },
  {
   "cell_type": "markdown",
   "metadata": {
    "id": "SO59OYG5cIji"
   },
   "source": [
    "### Exercise 3\n",
    "Modify the original `direct_sum` function (copied below for reference) to instead work a NumPy array of particles.  Loop over each element in the array and calculate its total potential.\n",
    "\n",
    "```python\n",
    "def direct_sum(particles):\n",
    "    \"\"\"\n",
    "    Calculate the potential at each particle\n",
    "    using direct summation method.\n",
    "\n",
    "    Arguments:\n",
    "        particles: the list of particles\n",
    "\n",
    "    \"\"\"\n",
    "    for i, target in enumerate(particles):\n",
    "        for source in (particles[:i] + particles[i+1:]):\n",
    "            r = target.distance(source)\n",
    "            target.phi += source.m / r"
   ]
  },
  {
   "cell_type": "code",
   "execution_count": 19,
   "metadata": {
    "id": "bQ3QrHHncIji"
   },
   "outputs": [],
   "source": [
    "parts = create_n_random_particles(n = 1000, m = 1/1000, domain = 1.0)"
   ]
  },
  {
   "cell_type": "code",
   "execution_count": 20,
   "metadata": {
    "id": "K5zp7me6cIji"
   },
   "outputs": [],
   "source": [
    "@njit(cache=True)\n",
    "def direct_sum_NEW(particles):\n",
    "    for k in range(particles.shape[0]-1):\n",
    "        for i in range(particles.shape[0]-1):\n",
    "            if k == i:\n",
    "                None\n",
    "            else:\n",
    "                r = distance(particles[k], particles[i])\n",
    "                particles[k]['phi'] += particles[i]['m']/r\n",
    "    return particles"
   ]
  },
  {
   "cell_type": "code",
   "execution_count": 21,
   "metadata": {
    "id": "spJioXaTcIji",
    "outputId": "a17b6957-aa77-48af-fee7-be92718c96c6"
   },
   "outputs": [
    {
     "data": {
      "text/plain": [
       "2.0652743213450213"
      ]
     },
     "execution_count": 21,
     "metadata": {},
     "output_type": "execute_result"
    }
   ],
   "source": [
    "direct_sum_NEW(parts)[0]['phi']"
   ]
  },
  {
   "cell_type": "code",
   "execution_count": 22,
   "metadata": {
    "id": "H8_nG3iNcIji"
   },
   "outputs": [],
   "source": [
    "n = 1000\n",
    "particles = [Particle(m = 1 / n) for i in range(n)]"
   ]
  },
  {
   "cell_type": "code",
   "execution_count": 23,
   "metadata": {
    "id": "nXeXfTLQcIji"
   },
   "outputs": [],
   "source": [
    "def direct_sum_OLD(particles):\n",
    "    for i, target in enumerate(particles):\n",
    "        for source in (particles[:i] + particles[i+1:]):\n",
    "            r = target.distance(source)\n",
    "            target.phi += source.m / r\n",
    "    return particles"
   ]
  },
  {
   "cell_type": "code",
   "execution_count": 24,
   "metadata": {
    "id": "f6ABLEEPcIji",
    "outputId": "c915d427-db71-478f-83c8-d913b2fd5394"
   },
   "outputs": [
    {
     "data": {
      "text/plain": [
       "2.237628243835663"
      ]
     },
     "execution_count": 24,
     "metadata": {},
     "output_type": "execute_result"
    }
   ],
   "source": [
    "direct_sum_OLD(particles)[0].phi"
   ]
  },
  {
   "cell_type": "markdown",
   "metadata": {
    "id": "WLs0pJkdcIjj"
   },
   "source": [
    "# Graphs"
   ]
  },
  {
   "cell_type": "code",
   "execution_count": 25,
   "metadata": {
    "id": "HvB-RxDbcIjj"
   },
   "outputs": [],
   "source": [
    "results_NEW = []\n",
    "for n_parts in range(100, 2000, 100):\n",
    "    n = n_parts\n",
    "    m = 1 / n_parts\n",
    "    parts_current = create_n_random_particles(n = n, m = m, domain = 1.0)\n",
    "    t = %timeit -n 1 -o -q direct_sum_NEW(parts_current)\n",
    "    results_NEW.append(t)"
   ]
  },
  {
   "cell_type": "code",
   "execution_count": 26,
   "metadata": {
    "id": "MuYwSsXBcIjj",
    "outputId": "fd68397b-9d7c-4465-e2fe-7f08f9109089"
   },
   "outputs": [
    {
     "data": {
      "text/plain": [
       "[<TimeitResult : 26.9 µs ± 1.85 µs per loop (mean ± std. dev. of 7 runs, 1 loop each)>,\n",
       " <TimeitResult : 104 µs ± 824 ns per loop (mean ± std. dev. of 7 runs, 1 loop each)>,\n",
       " <TimeitResult : 257 µs ± 29.2 µs per loop (mean ± std. dev. of 7 runs, 1 loop each)>,\n",
       " <TimeitResult : 514 µs ± 75.7 µs per loop (mean ± std. dev. of 7 runs, 1 loop each)>,\n",
       " <TimeitResult : 697 µs ± 39.7 µs per loop (mean ± std. dev. of 7 runs, 1 loop each)>,\n",
       " <TimeitResult : 1.01 ms ± 56.7 µs per loop (mean ± std. dev. of 7 runs, 1 loop each)>,\n",
       " <TimeitResult : 1.36 ms ± 18.9 µs per loop (mean ± std. dev. of 7 runs, 1 loop each)>,\n",
       " <TimeitResult : 1.77 ms ± 45.4 µs per loop (mean ± std. dev. of 7 runs, 1 loop each)>,\n",
       " <TimeitResult : 2.22 ms ± 25.8 µs per loop (mean ± std. dev. of 7 runs, 1 loop each)>,\n",
       " <TimeitResult : 2.86 ms ± 182 µs per loop (mean ± std. dev. of 7 runs, 1 loop each)>,\n",
       " <TimeitResult : 3.36 ms ± 52.4 µs per loop (mean ± std. dev. of 7 runs, 1 loop each)>,\n",
       " <TimeitResult : 3.94 ms ± 83.1 µs per loop (mean ± std. dev. of 7 runs, 1 loop each)>,\n",
       " <TimeitResult : 4.54 ms ± 74.6 µs per loop (mean ± std. dev. of 7 runs, 1 loop each)>,\n",
       " <TimeitResult : 5.29 ms ± 87.2 µs per loop (mean ± std. dev. of 7 runs, 1 loop each)>,\n",
       " <TimeitResult : 6.14 ms ± 33.1 µs per loop (mean ± std. dev. of 7 runs, 1 loop each)>,\n",
       " <TimeitResult : 6.87 ms ± 78.2 µs per loop (mean ± std. dev. of 7 runs, 1 loop each)>,\n",
       " <TimeitResult : 7.73 ms ± 97.5 µs per loop (mean ± std. dev. of 7 runs, 1 loop each)>,\n",
       " <TimeitResult : 8.64 ms ± 84.6 µs per loop (mean ± std. dev. of 7 runs, 1 loop each)>,\n",
       " <TimeitResult : 9.71 ms ± 95.7 µs per loop (mean ± std. dev. of 7 runs, 1 loop each)>]"
      ]
     },
     "execution_count": 26,
     "metadata": {},
     "output_type": "execute_result"
    }
   ],
   "source": [
    "results_NEW"
   ]
  },
  {
   "cell_type": "code",
   "execution_count": 27,
   "metadata": {
    "id": "tBsZh8ogcIjj"
   },
   "outputs": [],
   "source": [
    "results_OLD = []\n",
    "for n_parts in range(100, 2000, 100):\n",
    "    n = n_parts\n",
    "    m = 1 / n_parts\n",
    "    parts_current = particles = [Particle(m = m) for i in range(n)]\n",
    "    t = %timeit -n 1 -o -q direct_sum_OLD(parts_current)\n",
    "    results_OLD.append(t)"
   ]
  },
  {
   "cell_type": "code",
   "execution_count": 28,
   "metadata": {
    "id": "FMc5hdYucIjj",
    "outputId": "b5660304-daa0-44fd-862f-860f5f7045f4"
   },
   "outputs": [
    {
     "data": {
      "text/plain": [
       "[<TimeitResult : 6.85 ms ± 1.85 ms per loop (mean ± std. dev. of 7 runs, 1 loop each)>,\n",
       " <TimeitResult : 21.8 ms ± 288 µs per loop (mean ± std. dev. of 7 runs, 1 loop each)>,\n",
       " <TimeitResult : 48.8 ms ± 767 µs per loop (mean ± std. dev. of 7 runs, 1 loop each)>,\n",
       " <TimeitResult : 87.6 ms ± 306 µs per loop (mean ± std. dev. of 7 runs, 1 loop each)>,\n",
       " <TimeitResult : 137 ms ± 838 µs per loop (mean ± std. dev. of 7 runs, 1 loop each)>,\n",
       " <TimeitResult : 199 ms ± 5.65 ms per loop (mean ± std. dev. of 7 runs, 1 loop each)>,\n",
       " <TimeitResult : 277 ms ± 11.8 ms per loop (mean ± std. dev. of 7 runs, 1 loop each)>,\n",
       " <TimeitResult : 366 ms ± 3.54 ms per loop (mean ± std. dev. of 7 runs, 1 loop each)>,\n",
       " <TimeitResult : 470 ms ± 7.67 ms per loop (mean ± std. dev. of 7 runs, 1 loop each)>,\n",
       " <TimeitResult : 610 ms ± 66 ms per loop (mean ± std. dev. of 7 runs, 1 loop each)>,\n",
       " <TimeitResult : 683 ms ± 1.68 ms per loop (mean ± std. dev. of 7 runs, 1 loop each)>,\n",
       " <TimeitResult : 817 ms ± 5.07 ms per loop (mean ± std. dev. of 7 runs, 1 loop each)>,\n",
       " <TimeitResult : 975 ms ± 12.1 ms per loop (mean ± std. dev. of 7 runs, 1 loop each)>,\n",
       " <TimeitResult : 1.12 s ± 18 ms per loop (mean ± std. dev. of 7 runs, 1 loop each)>,\n",
       " <TimeitResult : 1.33 s ± 97.7 ms per loop (mean ± std. dev. of 7 runs, 1 loop each)>,\n",
       " <TimeitResult : 1.43 s ± 22 ms per loop (mean ± std. dev. of 7 runs, 1 loop each)>,\n",
       " <TimeitResult : 1.64 s ± 2.73 ms per loop (mean ± std. dev. of 7 runs, 1 loop each)>,\n",
       " <TimeitResult : 1.87 s ± 99.4 ms per loop (mean ± std. dev. of 7 runs, 1 loop each)>,\n",
       " <TimeitResult : 2.06 s ± 30.5 ms per loop (mean ± std. dev. of 7 runs, 1 loop each)>]"
      ]
     },
     "execution_count": 28,
     "metadata": {},
     "output_type": "execute_result"
    }
   ],
   "source": [
    "results_OLD"
   ]
  },
  {
   "cell_type": "code",
   "execution_count": 29,
   "metadata": {
    "id": "U8vODcc_cIjj",
    "outputId": "8d6a64f4-a0fe-44e1-9011-ea5ffbc430f3"
   },
   "outputs": [
    {
     "data": {
      "image/png": "[encoded data removed]",
      "text/plain": [
       "<Figure size 720x432 with 1 Axes>"
      ]
     },
     "metadata": {
      "needs_background": "light"
     },
     "output_type": "display_data"
    }
   ],
   "source": [
    "import matplotlib.pyplot as plt\n",
    "import numpy as np\n",
    "\n",
    "plt.figure(figsize=(10,6))\n",
    "plt.plot(np.arange(100, 2000, 100), [i.average for i in results_NEW])\n",
    "plt.plot(np.arange(100, 2000, 100), [i.average for i in results_OLD])\n",
    "plt.title('Direct sum() - log scale', fontsize=16)\n",
    "plt.yscale('log')\n",
    "plt.xlabel('Particles', fontsize=14)\n",
    "plt.ylabel('Time, s', fontsize=14)\n",
    "plt.xticks(fontsize=14)\n",
    "plt.yticks(fontsize=14)\n",
    "plt.legend(['NEW_direct_sum()', 'OLD_direct_sum'], fontsize=14);\n",
    "plt.grid()\n",
    "plt.show()"
   ]
  },
  {
   "cell_type": "code",
   "execution_count": 30,
   "metadata": {
    "id": "cIBBiWMScIjj",
    "outputId": "f25de824-1407-46a2-f69c-b8ff25fecf31"
   },
   "outputs": [
    {
     "data": {
      "image/png": "[encoded data removed]",
      "text/plain": [
       "<Figure size 720x432 with 1 Axes>"
      ]
     },
     "metadata": {
      "needs_background": "light"
     },
     "output_type": "display_data"
    }
   ],
   "source": [
    "plt.figure(figsize=(10,6))\n",
    "plt.plot(np.arange(100, 2000, 100), [i.average for i in results_NEW])\n",
    "plt.plot(np.arange(100, 2000, 100), [i.average for i in results_OLD])\n",
    "plt.title('Direct sum() - linear scale', fontsize=16)\n",
    "# plt.yscale('log')\n",
    "plt.xlabel('Particles', fontsize=14)\n",
    "plt.ylabel('Time, s', fontsize=14)\n",
    "plt.xticks(fontsize=14)\n",
    "plt.yticks(fontsize=14)\n",
    "plt.legend(['NEW_direct_sum()', 'OLD_direct_sum'], fontsize=14);\n",
    "plt.grid()\n",
    "plt.show()"
   ]
  }
 ],
 "metadata": {
  "celltoolbar": "Slideshow",
  "colab": {
   "name": "Lecture 8. Numba HW 3.ipynb",
   "provenance": []
  },
  "kernelspec": {
   "display_name": "Python 3",
   "language": "python",
   "name": "python3"
  },
  "language_info": {
   "codemirror_mode": {
    "name": "ipython",
    "version": 3
   },
   "file_extension": ".py",
   "mimetype": "text/x-python",
   "name": "python",
   "nbconvert_exporter": "python",
   "pygments_lexer": "ipython3",
   "version": "3.8.5"
  }
 },
 "nbformat": 4,
 "nbformat_minor": 4
}
