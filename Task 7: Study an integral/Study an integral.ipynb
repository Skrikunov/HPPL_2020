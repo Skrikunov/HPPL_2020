{
 "cells": [
  {
   "cell_type": "markdown",
   "metadata": {},
   "source": [
    "# Task 7 Study an integral\n",
    "## Subtask 1: Take some \"interesting\" function and compute its integral over some segment. Compute the value analytically. "
   ]
  },
  {
   "cell_type": "markdown",
   "metadata": {},
   "source": [
    "$$\n",
    "\\int e^x cos(x) \\,dx = \n",
    "\\begin{vmatrix} \n",
    "e^x = u & cos(x)dx = dV  \\\\\n",
    "e^x dx = du & sin(x) = V  \\\\\n",
    "\\end{vmatrix} \n",
    "= \\newline\n",
    "= e^x sin(x) - \\int e^x sin(x) \\,dx =\n",
    "\\begin{vmatrix} \n",
    "e^x = u & sin(x)dx = dV  \\\\\n",
    "e^x dx = du & -cos(x) = V  \\\\\n",
    "\\end{vmatrix} \n",
    "= \\newline\n",
    "= e^x sin(x) + e^x cos(x) - \\int e^x cos(x) \\,dx => \\newline\n",
    "=> 2I = 2 \\int e^x cos(x) \\,dx = e^x sin(x) + e^x cos(x) => \\newline\n",
    "=> I = \\int e^x cos(x) \\,dx =  \\frac{ e^x (sin(x) + cos(x))}{2}\n",
    "$$\n",
    "\n",
    "Let consider segment $x \\in [0,2 \\pi]$:\n",
    "$$\n",
    "I = \\int_{0}^{2 \\pi} e^x cos(x) \\,dx = \\frac{ e^x (sin(x) + cos(x))}{2} \\Biggr|_{0}^{2 \\pi} = \\frac{1}{2} [e^{2 \\pi}(0+1)-e^0(0+1)] = \\frac{1}{2} (e^{2 \\pi} - 1) \\approx 267,246\n",
    "$$"
   ]
  },
  {
   "cell_type": "markdown",
   "metadata": {},
   "source": [
    "## Subtask 2: Compute the integral using trapezoidal rule"
   ]
  },
  {
   "cell_type": "code",
   "execution_count": 1,
   "metadata": {},
   "outputs": [
    {
     "name": "stdout",
     "output_type": "stream",
     "text": [
      "Integral value: 267.24758617176144 Error estimation: 0.0017678251149580622\n"
     ]
    }
   ],
   "source": [
    "import math\n",
    "import numpy as np\n",
    "\n",
    "def calculate_integral(start_val, end_val, steps, err_Estim = False):\n",
    "    \n",
    "    x_0 = start_val # start value of the interval\n",
    "    x_1 = end_val # stop value of the intherval\n",
    "    steps = steps # the number of steps on the interval\n",
    "\n",
    "    # integral\n",
    "    x = np.linspace(x_0, x_1, steps) # small step\n",
    "    y = np.exp(x) * np.cos(x) # function\n",
    "    I_1n = np.trapz(y = y, x = x, axis = 0) # trapezoidal integration\n",
    "    \n",
    "    if err_Estim == True:\n",
    "        # for error estimation\n",
    "        x = np.linspace(x_0, x_1, int(steps / 2)) # long step\n",
    "        y = np.exp(x) * np.cos(x) # function\n",
    "        I_2n = np.trapz(y = y, x = x, axis = 0) # trapezoidal integration\n",
    "\n",
    "        # we can estimate error using double calculation: I_1n, I_2n\n",
    "        # error estimation: ERR <= |I_2n - I_1n| / 3\n",
    "        err = abs(I_2n - I_1n) / 3\n",
    "        return I_1n, err\n",
    "    else:\n",
    "        return I_1n\n",
    "\n",
    "result = calculate_integral(start_val = 0.0 * math.pi, end_val = 2.0 * math.pi, steps = 1001, err_Estim = True)\n",
    "#print('Integral value:', result)\n",
    "print('Integral value:', result[0], 'Error estimation:', result[1])"
   ]
  },
  {
   "cell_type": "markdown",
   "metadata": {},
   "source": [
    "## Subtask 3: Parallelize using MPI. You should be able to choose any number of MPI processes regardless of the number of discretization points."
   ]
  },
  {
   "cell_type": "code",
   "execution_count": 2,
   "metadata": {},
   "outputs": [
    {
     "name": "stdout",
     "output_type": "stream",
     "text": [
      "Overwriting integral.py\n"
     ]
    }
   ],
   "source": [
    "%%writefile integral.py\n",
    "\n",
    "from mpi4py import MPI\n",
    "import math\n",
    "import numpy as np\n",
    "\n",
    "def calculate_integral(start_val, end_val, steps, n_proc, rank, err_Estim = False):\n",
    "    x_0 = start_val\n",
    "    x_1 = end_val\n",
    "    step = x_1 / n_proc\n",
    "    points_X = steps\n",
    "    \n",
    "    # if points_X / n_proc is not integer\n",
    "    blocks_X = int(points_X / n_proc) # points of x axis\n",
    "    remainder = points_X % n_proc # remainder for the last block\n",
    "    add = 0 # addition of the last block\n",
    "    if rank == n_proc-1: # if current process is last\n",
    "        add = remainder # addition is equal to remainder\n",
    "        \n",
    "    # integral\n",
    "    x = np.linspace(x_0 + step * rank, x_0 + step * (rank + 1), add + blocks_X) # small step\n",
    "    y = np.exp(x) * np.cos(x) # function\n",
    "    I_1n = np.trapz(y = y, x = x, axis = 0) # trapezoidal integration\n",
    "    \n",
    "    if err_Estim:\n",
    "        # for error estimation\n",
    "        x = np.linspace(x_0 + step * rank, x_0 + step * (rank + 1), add + int(steps / (2 * n_proc))) # long step\n",
    "        y = np.exp(x) * np.cos(x) # function\n",
    "        I_2n = np.trapz(y = y, x = x, axis = 0) # trapezoidal integration\n",
    "\n",
    "        # we can estimate error using double calculation: I_1n, I_2n\n",
    "        # error estimation: ERR <= |I_2n - I_1n| / 3\n",
    "        err = abs(I_2n - I_1n) / 3\n",
    "\n",
    "        # print('Integral value:  ', I_1n)\n",
    "        # print('Error estimation:', err)\n",
    "        return I_1n, err\n",
    "    else:\n",
    "        return I_1n\n",
    "\n",
    "comm = MPI.COMM_WORLD\n",
    "n_proc = comm.Get_size() # processors\n",
    "rank = comm.Get_rank() # current rank\n",
    "\n",
    "if rank == 0:\n",
    "    print('nprocs = ', n_proc)\n",
    "    t0 = MPI.Wtime() # measure start time\n",
    "    \n",
    "#n = comm.bcast(n, root=0)\n",
    "integral_part = calculate_integral(start_val = 0, end_val = 2 * math.pi, steps = 10000000, n_proc = n_proc, rank = rank, err_Estim = False) # calculate integral part with current rank\n",
    "integral = comm.reduce(integral_part, op = MPI.SUM, root = 0) # accumulate all values to get final result\n",
    "\n",
    "if rank == 0:\n",
    "    print ('integral = ', integral)\n",
    "    totalTime =  MPI.Wtime() - t0\n",
    "    print('time = ', np.round((totalTime),4) * 1000, 'mSec')\n",
    "\n",
    "    np.savez('subtask3/example_'+str(n_proc), totalTime = np.round((totalTime),4) * 1000)"
   ]
  },
  {
   "cell_type": "code",
   "execution_count": 3,
   "metadata": {},
   "outputs": [
    {
     "name": "stdout",
     "output_type": "stream",
     "text": [
      "nprocs =  1\n",
      "integral =  267.2458277623998\n",
      "time =  223.39999999999998 mSec\n"
     ]
    }
   ],
   "source": [
    "!mpiexec -n 1 python integral.py"
   ]
  },
  {
   "cell_type": "markdown",
   "metadata": {},
   "source": [
    "## Subtask 4: Plot the speedup vs number of processors"
   ]
  },
  {
   "cell_type": "code",
   "execution_count": 4,
   "metadata": {},
   "outputs": [],
   "source": [
    "import subprocess\n",
    "times = []\n",
    "for i in range(1,10,1):\n",
    "    o = subprocess.run([\"mpiexec\",\"-n\", str(i), \"python\", \"integral.py\"],         \n",
    "        universal_newlines=True,\n",
    "        stdout=subprocess.PIPE,\n",
    "        stderr=subprocess.PIPE)\n",
    "    res = list(o.stdout.strip().split(' '))\n",
    "    times.append(res[9])\n",
    "times = list(map(float, times))"
   ]
  },
  {
   "cell_type": "code",
   "execution_count": 5,
   "metadata": {},
   "outputs": [
    {
     "data": {
      "text/plain": [
       "[<matplotlib.lines.Line2D at 0x7f52fae3f760>]"
      ]
     },
     "execution_count": 5,
     "metadata": {},
     "output_type": "execute_result"
    },
    {
     "data": {
      "image/png": "[encoded data removed]",
      "text/plain": [
       "<Figure size 720x360 with 1 Axes>"
      ]
     },
     "metadata": {
      "needs_background": "light"
     },
     "output_type": "display_data"
    }
   ],
   "source": [
    "import numpy as np\n",
    "import matplotlib.pyplot as plt\n",
    "\n",
    "plt.figure(figsize=(10, 5))\n",
    "plt.title('Speedup vs number of processors', fontsize=16)\n",
    "plt.ylabel('Time', fontsize=16)\n",
    "plt.xlabel('Processors', fontsize=16)\n",
    "plt.xticks(np.arange(0, 11), np.arange(1, 12), fontsize=14)\n",
    "plt.yticks(fontsize=14)\n",
    "plt.grid()\n",
    "#x = np.arange(1+len(times))\n",
    "plt.plot(np.array(times))"
   ]
  },
  {
   "cell_type": "markdown",
   "metadata": {},
   "source": [
    "## Subtask 5: Plot integration error vs the discretization step"
   ]
  },
  {
   "cell_type": "code",
   "execution_count": 6,
   "metadata": {},
   "outputs": [
    {
     "data": {
      "text/plain": [
       "[<matplotlib.lines.Line2D at 0x7f52fad367f0>]"
      ]
     },
     "execution_count": 6,
     "metadata": {},
     "output_type": "execute_result"
    },
    {
     "data": {
      "image/png": "[encoded data removed]",
      "text/plain": [
       "<Figure size 720x360 with 1 Axes>"
      ]
     },
     "metadata": {
      "needs_background": "light"
     },
     "output_type": "display_data"
    }
   ],
   "source": [
    "int_err = []\n",
    "for i in range(10,100,1):\n",
    "    result = calculate_integral(start_val = 0.0 * math.pi, end_val = 2.0 * math.pi, steps = i, err_Estim = True)\n",
    "    int_err.append(result[1])\n",
    "\n",
    "plt.figure(figsize=(10, 5))\n",
    "plt.title('Integration error vs the discretization step', fontsize=16)\n",
    "plt.ylabel('Error', fontsize=16)\n",
    "plt.xlabel('Discretization step^-1', fontsize=16)\n",
    "plt.xticks(np.arange(0, 90,10), np.arange(10, 100,10), fontsize=14)\n",
    "plt.yticks(fontsize=14)\n",
    "plt.grid()\n",
    "plt.loglog(int_err)"
   ]
  }
 ],
 "metadata": {
  "kernelspec": {
   "display_name": "Python 3",
   "language": "python",
   "name": "python3"
  },
  "language_info": {
   "codemirror_mode": {
    "name": "ipython",
    "version": 3
   },
   "file_extension": ".py",
   "mimetype": "text/x-python",
   "name": "python",
   "nbconvert_exporter": "python",
   "pygments_lexer": "ipython3",
   "version": "3.8.5"
  }
 },
 "nbformat": 4,
 "nbformat_minor": 4
}
